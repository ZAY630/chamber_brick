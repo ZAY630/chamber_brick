{
 "cells": [
  {
   "cell_type": "code",
   "execution_count": 25,
   "metadata": {},
   "outputs": [],
   "source": [
    "import brickschema\n",
    "import pandas as pd\n",
    "from functions.bacnet_point import BACnet_Point\n",
    "import functions.readWriteProperty as BACpypesAPP"
   ]
  },
  {
   "cell_type": "code",
   "execution_count": 26,
   "metadata": {},
   "outputs": [
    {
     "data": {
      "text/plain": [
       "<Graph identifier=Nf49749318ec542bbbddd100503d4b8c4 (<class 'brickschema.graph.Graph'>)>"
      ]
     },
     "execution_count": 26,
     "metadata": {},
     "output_type": "execute_result"
    }
   ],
   "source": [
    "g = brickschema.Graph()\n",
    "g.load_file('chamber_shacl_expanded.ttl')"
   ]
  },
  {
   "cell_type": "code",
   "execution_count": 27,
   "metadata": {},
   "outputs": [],
   "source": [
    "# bacnet_ini_file = './readfiles/BACnet_init_controller.ini'\n",
    "# access_bacnet = BACpypesAPP.Init(bacnet_ini_file)"
   ]
  },
  {
   "cell_type": "code",
   "execution_count": 28,
   "metadata": {},
   "outputs": [
    {
     "name": "stdout",
     "output_type": "stream",
     "text": [
      "returned 1 queries\n"
     ]
    }
   ],
   "source": [
    "brick_point = 'brick:Fan_On_Off_Status'\n",
    "equipment_type = 'brick:Supply_Fan'\n",
    "additional_filter = \"\"\"\n",
    "?ahu a brick:Air_Handling_Unit . \n",
    "?ahu brick:hasPoint ?point .\n",
    "\"\"\"\n",
    "\n",
    "\n",
    "query = g.query(\n",
    "    f\"\"\" SELECT * WHERE {{\n",
    "        VALUES ?t_type {{ {brick_point} }} \n",
    "        VALUES ?equipment_type {{ {equipment_type} }}\n",
    "             ?equipment rdf:type/rdfs:subClassOf?   ?equipment_type .\n",
    "             ?equipment brick:hasPoint              ?point .\n",
    "             ?point     rdf:type/rdfs:subClassOf?   ?t_type .\n",
    "             ?point     brick:hasUnit               ?point_unit .\n",
    "\n",
    "             ?point     ref:hasExternalReference    ?ref.\n",
    "             ?ref       bacnet:object-name          ?obj_name .\n",
    "             ?ref       bacnet:object-identifier    ?obj_identifier .\n",
    "             ?ref       bacnet:objectOf             ?obj_device .\n",
    "             ?obj_device bacnet:hasPort             ?ref_port .\n",
    "             ?ref_port  ref:storedAt                ?bacnet_address .\n",
    "             {additional_filter}\n",
    "        }}\"\"\"\n",
    ")\n",
    "\n",
    "df_result = pd.DataFrame(query, columns=[str(s) for s in query.vars])\n",
    "\n",
    "if not df_result.empty:\n",
    "    fan_status_dict = df_result.to_dict('records')\n",
    "else:\n",
    "    fan_status_dict = {}\n",
    "\n",
    "fan_status_dict = [result for result in fan_status_dict if result['ahu'].split('#')[-1] != 'AHU_A']\n",
    "\n",
    "print(\"returned\", len(fan_status_dict), \"queries\")"
   ]
  },
  {
   "cell_type": "code",
   "execution_count": 29,
   "metadata": {},
   "outputs": [
    {
     "name": "stdout",
     "output_type": "stream",
     "text": [
      "exception: %r 'NoneType' object has no attribute 'request_io'\n",
      "exception: %r 'NoneType' object has no attribute 'request_io'\n"
     ]
    },
    {
     "ename": "TypeError",
     "evalue": "float() argument must be a string or a number, not 'NoneType'",
     "output_type": "error",
     "traceback": [
      "\u001b[0;31m---------------------------------------------------------------------------\u001b[0m",
      "\u001b[0;31mTypeError\u001b[0m                                 Traceback (most recent call last)",
      "Cell \u001b[0;32mIn[29], line 3\u001b[0m\n\u001b[1;32m      1\u001b[0m fan_status_dict \u001b[38;5;241m=\u001b[39m fan_status_dict[\u001b[38;5;241m0\u001b[39m]\n\u001b[1;32m      2\u001b[0m fan_status \u001b[38;5;241m=\u001b[39m BACnet_Point(\u001b[38;5;241m*\u001b[39m\u001b[38;5;241m*\u001b[39mfan_status_dict) \u001b[38;5;28;01mif\u001b[39;00m \u001b[38;5;28mbool\u001b[39m(fan_status_dict) \u001b[38;5;28;01melse\u001b[39;00m fan_status_dict\n\u001b[0;32m----> 3\u001b[0m \u001b[43mfan_status\u001b[49m\u001b[38;5;241;43m.\u001b[39;49m\u001b[43mget_point_value\u001b[49m\u001b[43m(\u001b[49m\u001b[43mBACpypesAPP\u001b[49m\u001b[43m)\u001b[49m\n",
      "File \u001b[0;32m~/Documents/Mac/ClassMaterial/ARCH299/Brick/chamber/functions/bacnet_point.py:44\u001b[0m, in \u001b[0;36mBACnet_Point.get_point_value\u001b[0;34m(self, bacpypesAPP, sig_fig, convert_2_num)\u001b[0m\n\u001b[1;32m     42\u001b[0m \u001b[38;5;28;01melse\u001b[39;00m:\n\u001b[1;32m     43\u001b[0m     \u001b[38;5;28;01mtry\u001b[39;00m:\n\u001b[0;32m---> 44\u001b[0m         value \u001b[38;5;241m=\u001b[39m \u001b[38;5;28;43mfloat\u001b[39;49m\u001b[43m(\u001b[49m\u001b[43mval\u001b[49m\u001b[43m)\u001b[49m\n\u001b[1;32m     45\u001b[0m         value \u001b[38;5;241m=\u001b[39m \u001b[38;5;28mround\u001b[39m(val, sig_fig)\n\u001b[1;32m     46\u001b[0m     \u001b[38;5;28;01mexcept\u001b[39;00m \u001b[38;5;167;01mValueError\u001b[39;00m:\n",
      "\u001b[0;31mTypeError\u001b[0m: float() argument must be a string or a number, not 'NoneType'"
     ]
    }
   ],
   "source": [
    "fan_status_dict = fan_status_dict[0]\n",
    "fan_status = BACnet_Point(**fan_status_dict) if bool(fan_status_dict) else fan_status_dict\n",
    "fan_status.get_point_value(BACpypesAPP)"
   ]
  },
  {
   "cell_type": "code",
   "execution_count": 31,
   "metadata": {},
   "outputs": [
    {
     "name": "stdout",
     "output_type": "stream",
     "text": [
      "returned 1 queries\n"
     ]
    }
   ],
   "source": [
    "brick_point = 'brick:Run_Enable_Command'\n",
    "equipment_type = 'brick:Supply_Fan'\n",
    "additional_filter = \"\"\"\n",
    "?ahu a brick:Air_Handling_Unit . \n",
    "?ahu brick:hasPoint ?point .\n",
    "\"\"\"\n",
    "\n",
    "\n",
    "query = g.query(\n",
    "    f\"\"\" SELECT * WHERE {{\n",
    "        VALUES ?t_type {{ {brick_point} }} \n",
    "        VALUES ?equipment_type {{ {equipment_type} }}\n",
    "             ?equipment rdf:type/rdfs:subClassOf?   ?equipment_type .\n",
    "             ?equipment brick:hasPoint              ?point .\n",
    "             ?point     rdf:type/rdfs:subClassOf?   ?t_type .\n",
    "             ?point     brick:hasUnit               ?point_unit .\n",
    "\n",
    "             ?point     ref:hasExternalReference    ?ref.\n",
    "             ?ref       bacnet:object-name          ?obj_name .\n",
    "             ?ref       bacnet:object-identifier    ?obj_identifier .\n",
    "             ?ref       bacnet:objectOf             ?obj_device .\n",
    "             ?obj_device bacnet:hasPort             ?ref_port .\n",
    "             ?ref_port  ref:storedAt                ?bacnet_address .\n",
    "             {additional_filter}\n",
    "        }}\"\"\"\n",
    ")\n",
    "\n",
    "df_result = pd.DataFrame(query, columns=[str(s) for s in query.vars])\n",
    "\n",
    "if not df_result.empty:\n",
    "    fan_enable_dict = df_result.to_dict('records')\n",
    "else:\n",
    "    fan_enable_dict = {}\n",
    "\n",
    "fan_enable_dict = [result for result in fan_enable_dict if result['ahu'].split('#')[-1] != 'AHU_A']\n",
    "\n",
    "print(\"returned\", len(fan_enable_dict), \"queries\")"
   ]
  },
  {
   "cell_type": "code",
   "execution_count": 34,
   "metadata": {},
   "outputs": [
    {
     "ename": "TypeError",
     "evalue": "float() argument must be a string or a number, not 'NoneType'",
     "output_type": "error",
     "traceback": [
      "\u001b[0;31m---------------------------------------------------------------------------\u001b[0m",
      "\u001b[0;31mTypeError\u001b[0m                                 Traceback (most recent call last)",
      "Cell \u001b[0;32mIn[34], line 4\u001b[0m\n\u001b[1;32m      2\u001b[0m fan_enable_dict \u001b[38;5;241m=\u001b[39m fan_enable_dict[\u001b[38;5;241m0\u001b[39m]\n\u001b[1;32m      3\u001b[0m fan_enable_cmd \u001b[38;5;241m=\u001b[39m BACnet_Point(\u001b[38;5;241m*\u001b[39m\u001b[38;5;241m*\u001b[39mfan_enable_dict) \u001b[38;5;28;01mif\u001b[39;00m \u001b[38;5;28mbool\u001b[39m(fan_enable_dict) \u001b[38;5;28;01melse\u001b[39;00m fan_enable_dict\n\u001b[0;32m----> 4\u001b[0m \u001b[43mfan_enable_cmd\u001b[49m\u001b[38;5;241;43m.\u001b[39;49m\u001b[43mget_point_value\u001b[49m\u001b[43m(\u001b[49m\u001b[43mBACpypesAPP\u001b[49m\u001b[43m)\u001b[49m\n\u001b[1;32m      6\u001b[0m fan_enable_cmd\u001b[38;5;241m.\u001b[39mwrite_point_value(BACpypesAPP, \u001b[38;5;124m\"\u001b[39m\u001b[38;5;124mEnabled\u001b[39m\u001b[38;5;124m\"\u001b[39m, \u001b[38;5;241m13\u001b[39m)\n\u001b[1;32m      7\u001b[0m fan_enable_cmd\u001b[38;5;241m.\u001b[39mget_point_value(BACpypesAPP)\n",
      "File \u001b[0;32m~/Documents/Mac/ClassMaterial/ARCH299/Brick/chamber/functions/bacnet_point.py:44\u001b[0m, in \u001b[0;36mBACnet_Point.get_point_value\u001b[0;34m(self, bacpypesAPP, sig_fig, convert_2_num)\u001b[0m\n\u001b[1;32m     42\u001b[0m \u001b[38;5;28;01melse\u001b[39;00m:\n\u001b[1;32m     43\u001b[0m     \u001b[38;5;28;01mtry\u001b[39;00m:\n\u001b[0;32m---> 44\u001b[0m         value \u001b[38;5;241m=\u001b[39m \u001b[38;5;28;43mfloat\u001b[39;49m\u001b[43m(\u001b[49m\u001b[43mval\u001b[49m\u001b[43m)\u001b[49m\n\u001b[1;32m     45\u001b[0m         value \u001b[38;5;241m=\u001b[39m \u001b[38;5;28mround\u001b[39m(val, sig_fig)\n\u001b[1;32m     46\u001b[0m     \u001b[38;5;28;01mexcept\u001b[39;00m \u001b[38;5;167;01mValueError\u001b[39;00m:\n",
      "\u001b[0;31mTypeError\u001b[0m: float() argument must be a string or a number, not 'NoneType'"
     ]
    }
   ],
   "source": [
    "# Enable command: Enabled/Disabled\n",
    "fan_enable_dict = fan_enable_dict[0]\n",
    "fan_enable_cmd = BACnet_Point(**fan_enable_dict) if bool(fan_enable_dict) else fan_enable_dict\n",
    "fan_enable_cmd.get_point_value(BACpypesAPP)\n",
    "\n",
    "fan_enable_cmd.write_point_value(BACpypesAPP, \"Enabled\", 13)\n",
    "fan_enable_cmd.get_point_value(BACpypesAPP)\n",
    "fan_status.get_point_value(BACpypesAPP)"
   ]
  },
  {
   "cell_type": "code",
   "execution_count": 35,
   "metadata": {},
   "outputs": [
    {
     "name": "stdout",
     "output_type": "stream",
     "text": [
      "returned 1 queries\n"
     ]
    }
   ],
   "source": [
    "brick_point = 'brick:Damper_Position_Sensor'\n",
    "equipment_type = 'brick:Damper'\n",
    "additional_filter = \"\"\"\n",
    "?ahu a brick:Air_Handling_Unit . \n",
    "?ahu brick:hasPart ?vav .\n",
    "?vav a brick:VAV .\n",
    "?vav brick:hasPart ?equipment .\n",
    "\"\"\"\n",
    "\n",
    "\n",
    "query = g.query(\n",
    "    f\"\"\" SELECT * WHERE {{\n",
    "        VALUES ?t_type {{ {brick_point} }} \n",
    "        VALUES ?equipment_type {{ {equipment_type} }}\n",
    "             ?equipment rdf:type/rdfs:subClassOf?   ?equipment_type .\n",
    "             ?equipment brick:hasPoint              ?point .\n",
    "             ?point     rdf:type/rdfs:subClassOf?   ?t_type .\n",
    "             ?point     brick:hasUnit               ?point_unit .\n",
    "\n",
    "             ?point     ref:hasExternalReference    ?ref.\n",
    "             ?ref       bacnet:object-name          ?obj_name .\n",
    "             ?ref       bacnet:object-identifier    ?obj_identifier .\n",
    "             ?ref       bacnet:objectOf             ?obj_device .\n",
    "             ?obj_device bacnet:hasPort             ?ref_port .\n",
    "             ?ref_port  ref:storedAt                ?bacnet_address .\n",
    "             {additional_filter}\n",
    "        }}\"\"\"\n",
    ")\n",
    "\n",
    "df_result = pd.DataFrame(query, columns=[str(s) for s in query.vars])\n",
    "\n",
    "if not df_result.empty:\n",
    "    vav_damper_dict = df_result.to_dict('records')\n",
    "else:\n",
    "    vav_damper_dict = {}\n",
    "\n",
    "print(\"returned\", len(vav_damper_dict), \"queries\")"
   ]
  },
  {
   "cell_type": "code",
   "execution_count": null,
   "metadata": {},
   "outputs": [],
   "source": [
    "# damper command: 0 ~ 100\n",
    "vav_damper_dict = vav_damper_dict[0]\n",
    "vav_damper_command = BACnet_Point(**vav_damper_dict) if bool(vav_damper_dict) else vav_damper_dict\n",
    "vav_damper_command.get_point_value(BACpypesAPP)\n",
    "\n",
    "vav_damper_command.write_point_value(BACpypesAPP, 100, 13)\n",
    "vav_damper_command.get_point_value(BACpypesAPP)"
   ]
  },
  {
   "cell_type": "code",
   "execution_count": 53,
   "metadata": {},
   "outputs": [
    {
     "name": "stdout",
     "output_type": "stream",
     "text": [
      "returned 1 queries\n"
     ]
    }
   ],
   "source": [
    "brick_point = 'brick:Supply_Air_Flow_Sensor'\n",
    "equipment_type = 'brick:VAV'\n",
    "additional_filter = \"\"\"\n",
    "\"\"\"\n",
    "\n",
    "\n",
    "query = g.query(\n",
    "    f\"\"\" SELECT * WHERE {{\n",
    "        VALUES ?t_type {{ {brick_point} }} \n",
    "        VALUES ?equipment_type {{ {equipment_type} }}\n",
    "             ?equipment rdf:type/rdfs:subClassOf?   ?equipment_type .\n",
    "             ?equipment brick:hasPoint              ?point .\n",
    "             ?point     rdf:type/rdfs:subClassOf?   ?t_type .\n",
    "             ?point     brick:hasUnit               ?point_unit .\n",
    "\n",
    "             ?point     ref:hasExternalReference    ?ref.\n",
    "             ?ref       bacnet:object-name          ?obj_name .\n",
    "             ?ref       bacnet:object-identifier    ?obj_identifier .\n",
    "             ?ref       bacnet:objectOf             ?obj_device .\n",
    "             ?obj_device bacnet:hasPort             ?ref_port .\n",
    "             ?ref_port  ref:storedAt                ?bacnet_address .\n",
    "             {additional_filter}\n",
    "        }}\"\"\"\n",
    ")\n",
    "\n",
    "df_result = pd.DataFrame(query, columns=[str(s) for s in query.vars])\n",
    "\n",
    "if not df_result.empty:\n",
    "    vav_afr_dict = df_result.to_dict('records')\n",
    "else:\n",
    "    vav_afr_dict = {}\n",
    "\n",
    "print(\"returned\", len(vav_afr_dict), \"queries\")"
   ]
  },
  {
   "cell_type": "code",
   "execution_count": null,
   "metadata": {},
   "outputs": [],
   "source": [
    "vav_afr_dict = vav_afr_dict[0]\n",
    "vav_afr = BACnet_Point(**vav_afr_dict) if bool(vav_afr_dict) else vav_afr_dict\n",
    "vav_afr.get_point_value(BACpypesAPP)"
   ]
  }
 ],
 "metadata": {
  "kernelspec": {
   "display_name": "venv",
   "language": "python",
   "name": "python3"
  },
  "language_info": {
   "codemirror_mode": {
    "name": "ipython",
    "version": 3
   },
   "file_extension": ".py",
   "mimetype": "text/x-python",
   "name": "python",
   "nbconvert_exporter": "python",
   "pygments_lexer": "ipython3",
   "version": "3.8.18"
  }
 },
 "nbformat": 4,
 "nbformat_minor": 2
}
