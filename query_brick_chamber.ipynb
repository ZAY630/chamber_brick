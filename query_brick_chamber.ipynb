{
 "cells": [
  {
   "cell_type": "code",
   "execution_count": 1,
   "metadata": {},
   "outputs": [],
   "source": [
    "import brickschema\n",
    "import pandas as pd\n",
    "from functions.bacnet_point import BACnet_Point\n",
    "import functions.readWriteProperty as BACpypesAPP"
   ]
  },
  {
   "cell_type": "code",
   "execution_count": 2,
   "metadata": {},
   "outputs": [
    {
     "data": {
      "text/plain": [
       "<Graph identifier=Nd33a71e9e8e340ebafd2d6a723b9847a (<class 'brickschema.graph.Graph'>)>"
      ]
     },
     "execution_count": 2,
     "metadata": {},
     "output_type": "execute_result"
    }
   ],
   "source": [
    "g = brickschema.Graph()\n",
    "g.load_file('chamber_shacl_expanded.ttl')"
   ]
  },
  {
   "cell_type": "code",
   "execution_count": 3,
   "metadata": {},
   "outputs": [
    {
     "name": "stdout",
     "output_type": "stream",
     "text": [
      "\n",
      "Query test 1 results:\n",
      "(rdflib.term.URIRef('http://berkeley.edu/climatechamber#AHU_C'), rdflib.term.URIRef('http://berkeley.edu/climatechamber#damper_SC_supply'), rdflib.term.URIRef('http://berkeley.edu/climatechamber#spot_clg_dmpr_pos_ao_6'))\n",
      "(rdflib.term.URIRef('http://berkeley.edu/climatechamber#AHU_C'), rdflib.term.URIRef('http://berkeley.edu/climatechamber#damper_supply'), rdflib.term.URIRef('http://berkeley.edu/climatechamber#supply_damper_pos_10'))\n"
     ]
    }
   ],
   "source": [
    "# Query test 1\n",
    "query1 = g.query(\n",
    "    \"\"\"SELECT ?ahu ?damper ?damper_pos WHERE {\n",
    "    ?ahu a brick:Air_Handling_Unit .\n",
    "    ?ahu brick:hasPart ?damper .\n",
    "    ?damper a brick:Damper .\n",
    "    ?damper brick:feeds ?cc .\n",
    "    ?cc a brick:Chilled_Water_Coil .\n",
    "    ?damper_pos a brick:Damper_Position_Sensor .\n",
    "    ?damper brick:hasPoint ?damper_pos\n",
    "}\"\"\"\n",
    ")\n",
    "print(\"\\nQuery test 1 results:\")\n",
    "for row in query1:\n",
    "    print(row)"
   ]
  },
  {
   "cell_type": "code",
   "execution_count": 4,
   "metadata": {},
   "outputs": [
    {
     "name": "stdout",
     "output_type": "stream",
     "text": [
      "\n",
      "Query test 2 results:\n",
      "(rdflib.term.URIRef('http://berkeley.edu/climatechamber#AHU_C'), rdflib.term.URIRef('http://berkeley.edu/climatechamber#dsp_fixed_setpoint_10'))\n",
      "(rdflib.term.URIRef('http://berkeley.edu/climatechamber#AHU_C'), rdflib.term.URIRef('http://berkeley.edu/climatechamber#press_stpt_6'))\n",
      "(rdflib.term.URIRef('http://berkeley.edu/climatechamber#AHU_C'), rdflib.term.URIRef('http://berkeley.edu/climatechamber#dsp_fixed_setpoint_10'))\n",
      "(rdflib.term.URIRef('http://berkeley.edu/climatechamber#AHU_C'), rdflib.term.URIRef('http://berkeley.edu/climatechamber#press_stpt_6'))\n",
      "(rdflib.term.URIRef('http://berkeley.edu/climatechamber#AHU_C'), rdflib.term.URIRef('http://berkeley.edu/climatechamber#dat_sp_clg_10'))\n",
      "(rdflib.term.URIRef('http://berkeley.edu/climatechamber#AHU_C'), rdflib.term.URIRef('http://berkeley.edu/climatechamber#dat_sp_clg_10'))\n",
      "(rdflib.term.URIRef('http://berkeley.edu/climatechamber#WH_1'), rdflib.term.URIRef('http://berkeley.edu/climatechamber#HWST_stp'))\n",
      "(rdflib.term.URIRef('http://berkeley.edu/climatechamber#CH_1'), rdflib.term.URIRef('http://berkeley.edu/climatechamber#fixed_chws_temp_stpt_1'))\n",
      "(rdflib.term.URIRef('http://berkeley.edu/climatechamber#PCHW_L'), rdflib.term.URIRef('http://berkeley.edu/climatechamber#fixed_chws_temp_stpt_1'))\n",
      "(rdflib.term.URIRef('http://berkeley.edu/climatechamber#AHU_C'), rdflib.term.URIRef('http://berkeley.edu/climatechamber#dat_sp_htg_10'))\n",
      "(rdflib.term.URIRef('http://berkeley.edu/climatechamber#AHU_C'), rdflib.term.URIRef('http://berkeley.edu/climatechamber#dat_sp_htg_10'))\n",
      "(rdflib.term.URIRef('http://berkeley.edu/climatechamber#AHU_A'), rdflib.term.URIRef('http://berkeley.edu/climatechamber#sat_setpoint_av_1'))\n",
      "(rdflib.term.URIRef('http://berkeley.edu/climatechamber#Zone'), rdflib.term.URIRef('http://berkeley.edu/climatechamber#Occupied_Cooling_Setpoint_10'))\n",
      "(rdflib.term.URIRef('http://berkeley.edu/climatechamber#Zone'), rdflib.term.URIRef('http://berkeley.edu/climatechamber#Unoccupied_Cooling_Setpoint_10'))\n",
      "(rdflib.term.URIRef('http://berkeley.edu/climatechamber#Zone'), rdflib.term.URIRef('http://berkeley.edu/climatechamber#Effective_Cooling_Setpoint_10'))\n",
      "(rdflib.term.URIRef('http://berkeley.edu/climatechamber#AHU_C'), rdflib.term.URIRef('http://berkeley.edu/climatechamber#eff_c_datsp_10'))\n",
      "(rdflib.term.URIRef('http://berkeley.edu/climatechamber#Zone'), rdflib.term.URIRef('http://berkeley.edu/climatechamber#Occupied_Heating_Setpoint_10'))\n",
      "(rdflib.term.URIRef('http://berkeley.edu/climatechamber#Zone'), rdflib.term.URIRef('http://berkeley.edu/climatechamber#Unoccupied_Heating_Setpoint_10'))\n",
      "(rdflib.term.URIRef('http://berkeley.edu/climatechamber#Zone'), rdflib.term.URIRef('http://berkeley.edu/climatechamber#Effective_Heating_Setpoint_10'))\n",
      "(rdflib.term.URIRef('http://berkeley.edu/climatechamber#AHU_C'), rdflib.term.URIRef('http://berkeley.edu/climatechamber#eff_h_datsp_10'))\n",
      "(rdflib.term.URIRef('http://berkeley.edu/climatechamber#AHU_C'), rdflib.term.URIRef('http://berkeley.edu/climatechamber#temp_stpt_6'))\n",
      "(rdflib.term.URIRef('http://berkeley.edu/climatechamber#AHU_A'), rdflib.term.URIRef('http://berkeley.edu/climatechamber#sat_setpoint_av_1'))\n"
     ]
    }
   ],
   "source": [
    "# Query test 2\n",
    "query2 = g.query(\n",
    "    \"\"\"SELECT * WHERE{ \n",
    "    ?sensor rdf:type/rdfs:subClassOf* brick:Setpoint .\n",
    "    ?sensor brick:isPointOf ?equipment\n",
    "}\"\"\"\n",
    ")\n",
    "print(\"\\nQuery test 2 results:\")\n",
    "for row in query2:\n",
    "    print(row)"
   ]
  },
  {
   "cell_type": "code",
   "execution_count": 5,
   "metadata": {},
   "outputs": [
    {
     "name": "stdout",
     "output_type": "stream",
     "text": [
      "\n",
      "Query test 3 results:\n",
      "(rdflib.term.URIRef('http://berkeley.edu/climatechamber#spot_clg_dmpr_pos_ao_6'),)\n"
     ]
    }
   ],
   "source": [
    "# Query test 3\n",
    "query3 = g.query(\n",
    "    \"\"\"SELECT ?position WHERE{\n",
    "    ?ahu a brick:Air_Handling_Unit .\n",
    "    ?position a brick:Damper_Position_Sensor .\n",
    "    ?damper a brick:Damper .\n",
    "    ?zone a brick:HVAC_Zone .\n",
    "    ?ahu brick:hasPart ?damper .\n",
    "    ?damper brick:hasPoint ?position .\n",
    "    ?damper brick:feeds ?zone\n",
    "    }\n",
    "    \"\"\"\n",
    ")\n",
    "print(\"\\nQuery test 3 results:\")\n",
    "for row in query3:\n",
    "    print(row)"
   ]
  },
  {
   "cell_type": "code",
   "execution_count": 6,
   "metadata": {},
   "outputs": [
    {
     "name": "stdout",
     "output_type": "stream",
     "text": [
      "\n",
      "Query test 4 results:\n",
      "(rdflib.term.URIRef('http://berkeley.edu/climatechamber#sa_temp_1'),)\n",
      "(rdflib.term.URIRef('http://berkeley.edu/climatechamber#coil_da_temp_10'),)\n",
      "(rdflib.term.URIRef('http://berkeley.edu/climatechamber#eff_sa_temp_10'),)\n",
      "(rdflib.term.URIRef('http://berkeley.edu/climatechamber#spot_clg_sa_temp_6'),)\n",
      "(rdflib.term.URIRef('http://berkeley.edu/climatechamber#overhead_sa_temp_10'),)\n",
      "(rdflib.term.URIRef('http://berkeley.edu/climatechamber#underfloor_sa_temp_10'),)\n"
     ]
    }
   ],
   "source": [
    "# Query test 4\n",
    "query4 = g.query(\n",
    "    \"\"\"SELECT ?sat WHERE{\n",
    "        ?ahu a brick:Air_Handling_Unit .\n",
    "        ?sat a brick:Supply_Air_Temperature_Sensor .\n",
    "        ?ahu brick:hasPoint ?sat\n",
    "    }\n",
    "    \"\"\"\n",
    ")\n",
    "print(\"\\nQuery test 4 results:\")\n",
    "for row in query4:\n",
    "    print(row)"
   ]
  },
  {
   "cell_type": "code",
   "execution_count": 7,
   "metadata": {},
   "outputs": [
    {
     "name": "stdout",
     "output_type": "stream",
     "text": [
      "> \u001b[0;32m/Users/aoyuzou/Documents/Mac/ClassMaterial/ARCH299/Brick/chamber/functions/readWriteProperty.py\u001b[0m(336)\u001b[0;36mInit\u001b[0;34m()\u001b[0m\n",
      "\u001b[0;32m    334 \u001b[0;31m    \u001b[0;32mexcept\u001b[0m \u001b[0mException\u001b[0m \u001b[0;32mas\u001b[0m \u001b[0merror\u001b[0m\u001b[0;34m:\u001b[0m\u001b[0;34m\u001b[0m\u001b[0;34m\u001b[0m\u001b[0m\n",
      "\u001b[0m\u001b[0;32m    335 \u001b[0;31m        \u001b[0;32mimport\u001b[0m \u001b[0mpdb\u001b[0m\u001b[0;34m;\u001b[0m \u001b[0mpdb\u001b[0m\u001b[0;34m.\u001b[0m\u001b[0mset_trace\u001b[0m\u001b[0;34m(\u001b[0m\u001b[0;34m)\u001b[0m\u001b[0;34m\u001b[0m\u001b[0;34m\u001b[0m\u001b[0m\n",
      "\u001b[0m\u001b[0;32m--> 336 \u001b[0;31m        \u001b[0;32mif\u001b[0m \u001b[0m_debug\u001b[0m\u001b[0;34m:\u001b[0m \u001b[0mprint\u001b[0m\u001b[0;34m(\u001b[0m\u001b[0;34m\"exception: %r\"\u001b[0m\u001b[0;34m,\u001b[0m \u001b[0merror\u001b[0m\u001b[0;34m)\u001b[0m\u001b[0;34m\u001b[0m\u001b[0;34m\u001b[0m\u001b[0m\n",
      "\u001b[0m\u001b[0;32m    337 \u001b[0;31m    \u001b[0;32melse\u001b[0m\u001b[0;34m:\u001b[0m\u001b[0;34m\u001b[0m\u001b[0;34m\u001b[0m\u001b[0m\n",
      "\u001b[0m\u001b[0;32m    338 \u001b[0;31m        \u001b[0mbacnet_establish\u001b[0m \u001b[0;34m=\u001b[0m \u001b[0;32mTrue\u001b[0m\u001b[0;34m\u001b[0m\u001b[0;34m\u001b[0m\u001b[0m\n",
      "\u001b[0m\n"
     ]
    }
   ],
   "source": [
    "bacnet_ini_file = './readfiles/BACnet_init_controller.ini'\n",
    "access_bacnet = BACpypesAPP.Init(bacnet_ini_file)"
   ]
  },
  {
   "cell_type": "code",
   "execution_count": null,
   "metadata": {},
   "outputs": [],
   "source": [
    "brick_point = 'brick:Chilled_Water_Temperature_Setpoint'\n",
    "\n",
    "query = g.query(\n",
    "    f\"\"\" SELECT * WHERE {{\n",
    "        VALUES ?t_type {{ {brick_point} }}\n",
    "             ?equipment brick:hasPoint              ?point .\n",
    "             ?point     rdf:type/rdfs:subClassOf?   ?t_type .\n",
    "             ?point     brick:hasUnit               ?point_unit .\n",
    "\n",
    "             ?point     ref:hasExternalReference    ?ref.\n",
    "             ?ref       bacnet:object-name          ?obj_name .\n",
    "             ?ref       bacnet:object-identifier    ?obj_identifier .\n",
    "             ?ref       bacnet:objectOf             ?obj_device .\n",
    "             ?obj_device bacnet:hasPort             ?ref_port .\n",
    "             ?ref_port  ref:storedAt                ?bacnet_address .\n",
    "        }}\"\"\"\n",
    ")\n",
    "\n",
    "df_result = pd.DataFrame(query, columns=[str(s) for s in query.vars])\n",
    "\n",
    "if not df_result.empty:\n",
    "    setpoint_dict = df_result.to_dict('records')[0]\n",
    "else:\n",
    "    setpoint_dict = {}"
   ]
  },
  {
   "cell_type": "code",
   "execution_count": 26,
   "metadata": {},
   "outputs": [
    {
     "data": {
      "text/plain": [
       "{'obj_device': rdflib.term.URIRef('http://berkeley.edu/climatechamber#dev-2400001.0'),\n",
       " 't_type': rdflib.term.URIRef('https://brickschema.org/schema/Brick#Chilled_Water_Temperature_Setpoint'),\n",
       " 'bacnet_address': rdflib.term.Literal('192.168.168.1'),\n",
       " 'obj_identifier': rdflib.term.Literal('analogValue,2'),\n",
       " 'obj_name': rdflib.term.Literal('fixed_chws_temp_stpt_1'),\n",
       " 'point_unit': rdflib.term.URIRef('http://qudt.org/vocab/unit/DEG_F'),\n",
       " 'ref': rdflib.term.BNode('n9d090620468d4008938bda36c1d0b3c4b22213'),\n",
       " 'point': rdflib.term.URIRef('http://berkeley.edu/climatechamber#fixed_chws_temp_stpt_1'),\n",
       " 'equipment': rdflib.term.URIRef('http://berkeley.edu/climatechamber#PCHW_L'),\n",
       " 'ref_port': rdflib.term.BNode('n9d090620468d4008938bda36c1d0b3c4b24563')}"
      ]
     },
     "execution_count": 26,
     "metadata": {},
     "output_type": "execute_result"
    }
   ],
   "source": [
    "setpoint_dict"
   ]
  },
  {
   "cell_type": "code",
   "execution_count": 27,
   "metadata": {},
   "outputs": [],
   "source": [
    "setpoint = BACnet_Point(**setpoint_dict) if bool(setpoint_dict) else setpoint_dict\n",
    "\n",
    "BACnet_Point(setpoint_dict['name'], setpoint_dict['unit'], ...)"
   ]
  },
  {
   "cell_type": "code",
   "execution_count": null,
   "metadata": {},
   "outputs": [],
   "source": [
    "BACpypesAPP.write_prop(setpoint_dict['bacnet_address'], setpoint_dict['obj_identifier'][0], setpoint_dict[''])"
   ]
  },
  {
   "cell_type": "code",
   "execution_count": 48,
   "metadata": {},
   "outputs": [],
   "source": [
    "setpoint.write_point_value(BACpypesAPP, 47, 13)"
   ]
  },
  {
   "cell_type": "code",
   "execution_count": 30,
   "metadata": {},
   "outputs": [],
   "source": [
    "brick_point = 'brick:Leaving_Chilled_Water_Temperature_Sensor'\n",
    "\n",
    "query = g.query(\n",
    "    f\"\"\" SELECT * WHERE {{\n",
    "        VALUES ?t_type {{ {brick_point} }}\n",
    "             ?equipment brick:hasPoint              ?point .\n",
    "             ?point     rdf:type/rdfs:subClassOf?   ?t_type .\n",
    "             ?point     brick:hasUnit               ?point_unit .\n",
    "\n",
    "             ?point     ref:hasExternalReference    ?ref.\n",
    "             ?ref       bacnet:object-name          ?obj_name .\n",
    "             ?ref       bacnet:object-identifier    ?obj_identifier .\n",
    "             ?ref       bacnet:objectOf             ?obj_device .\n",
    "             ?obj_device bacnet:hasPort             ?ref_port .\n",
    "             ?ref_port  ref:storedAt                ?bacnet_address .\n",
    "        }}\"\"\"\n",
    ")\n",
    "\n",
    "df_result = pd.DataFrame(query, columns=[str(s) for s in query.vars])\n",
    "\n",
    "if not df_result.empty:\n",
    "    temp_dict = df_result.to_dict('records')\n",
    "else:\n",
    "    temp_dict = {}"
   ]
  },
  {
   "cell_type": "code",
   "execution_count": 31,
   "metadata": {},
   "outputs": [
    {
     "data": {
      "text/plain": [
       "[{'obj_device': rdflib.term.URIRef('http://berkeley.edu/climatechamber#dev-2400002.0'),\n",
       "  't_type': rdflib.term.URIRef('https://brickschema.org/schema/Brick#Leaving_Chilled_Water_Temperature_Sensor'),\n",
       "  'bacnet_address': rdflib.term.Literal('192.168.168.2'),\n",
       "  'obj_identifier': rdflib.term.Literal('analogValue,223'),\n",
       "  'obj_name': rdflib.term.Literal('supply_temp_b_11'),\n",
       "  'point_unit': rdflib.term.URIRef('http://qudt.org/vocab/unit/DEG_F'),\n",
       "  'ref': rdflib.term.BNode('n9d090620468d4008938bda36c1d0b3c4b20002'),\n",
       "  'point': rdflib.term.URIRef('http://berkeley.edu/climatechamber#supply_temp_b_11'),\n",
       "  'equipment': rdflib.term.URIRef('http://berkeley.edu/climatechamber#Meter_C'),\n",
       "  'ref_port': rdflib.term.BNode('n9d090620468d4008938bda36c1d0b3c4b24564')},\n",
       " {'obj_device': rdflib.term.URIRef('http://berkeley.edu/climatechamber#dev-2400001.0'),\n",
       "  't_type': rdflib.term.URIRef('https://brickschema.org/schema/Brick#Leaving_Chilled_Water_Temperature_Sensor'),\n",
       "  'bacnet_address': rdflib.term.Literal('192.168.168.1'),\n",
       "  'obj_identifier': rdflib.term.Literal('analogInput,2'),\n",
       "  'obj_name': rdflib.term.Literal('pchws_temp_1'),\n",
       "  'point_unit': rdflib.term.URIRef('http://qudt.org/vocab/unit/DEG_F'),\n",
       "  'ref': rdflib.term.BNode('n9d090620468d4008938bda36c1d0b3c4b22222'),\n",
       "  'point': rdflib.term.URIRef('http://berkeley.edu/climatechamber#pchws_temp_1'),\n",
       "  'equipment': rdflib.term.URIRef('http://berkeley.edu/climatechamber#PCHW_L'),\n",
       "  'ref_port': rdflib.term.BNode('n9d090620468d4008938bda36c1d0b3c4b24563')},\n",
       " {'obj_device': rdflib.term.URIRef('http://berkeley.edu/climatechamber#dev-2400001.0'),\n",
       "  't_type': rdflib.term.URIRef('https://brickschema.org/schema/Brick#Leaving_Chilled_Water_Temperature_Sensor'),\n",
       "  'bacnet_address': rdflib.term.Literal('192.168.168.1'),\n",
       "  'obj_identifier': rdflib.term.Literal('analogInput,2'),\n",
       "  'obj_name': rdflib.term.Literal('pchws_temp_1'),\n",
       "  'point_unit': rdflib.term.URIRef('http://qudt.org/vocab/unit/DEG_F'),\n",
       "  'ref': rdflib.term.BNode('n9d090620468d4008938bda36c1d0b3c4b22222'),\n",
       "  'point': rdflib.term.URIRef('http://berkeley.edu/climatechamber#pchws_temp_1'),\n",
       "  'equipment': rdflib.term.URIRef('http://berkeley.edu/climatechamber#CH_1'),\n",
       "  'ref_port': rdflib.term.BNode('n9d090620468d4008938bda36c1d0b3c4b24563')},\n",
       " {'obj_device': rdflib.term.URIRef('http://berkeley.edu/climatechamber#dev-2400001.0'),\n",
       "  't_type': rdflib.term.URIRef('https://brickschema.org/schema/Brick#Leaving_Chilled_Water_Temperature_Sensor'),\n",
       "  'bacnet_address': rdflib.term.Literal('192.168.168.1'),\n",
       "  'obj_identifier': rdflib.term.Literal('analogInput,7'),\n",
       "  'obj_name': rdflib.term.Literal('schws_temp_1'),\n",
       "  'point_unit': rdflib.term.URIRef('http://qudt.org/vocab/unit/DEG_F'),\n",
       "  'ref': rdflib.term.BNode('n9d090620468d4008938bda36c1d0b3c4b22225'),\n",
       "  'point': rdflib.term.URIRef('http://berkeley.edu/climatechamber#schws_temp_1'),\n",
       "  'equipment': rdflib.term.URIRef('http://berkeley.edu/climatechamber#CH_1'),\n",
       "  'ref_port': rdflib.term.BNode('n9d090620468d4008938bda36c1d0b3c4b24563')},\n",
       " {'obj_device': rdflib.term.URIRef('http://berkeley.edu/climatechamber#dev-2400001.0'),\n",
       "  't_type': rdflib.term.URIRef('https://brickschema.org/schema/Brick#Leaving_Chilled_Water_Temperature_Sensor'),\n",
       "  'bacnet_address': rdflib.term.Literal('192.168.168.1'),\n",
       "  'obj_identifier': rdflib.term.Literal('analogInput,7'),\n",
       "  'obj_name': rdflib.term.Literal('schws_temp_1'),\n",
       "  'point_unit': rdflib.term.URIRef('http://qudt.org/vocab/unit/DEG_F'),\n",
       "  'ref': rdflib.term.BNode('n9d090620468d4008938bda36c1d0b3c4b22225'),\n",
       "  'point': rdflib.term.URIRef('http://berkeley.edu/climatechamber#schws_temp_1'),\n",
       "  'equipment': rdflib.term.URIRef('http://berkeley.edu/climatechamber#SCHW_L'),\n",
       "  'ref_port': rdflib.term.BNode('n9d090620468d4008938bda36c1d0b3c4b24563')}]"
      ]
     },
     "execution_count": 31,
     "metadata": {},
     "output_type": "execute_result"
    }
   ],
   "source": [
    "temp_dict"
   ]
  },
  {
   "cell_type": "code",
   "execution_count": null,
   "metadata": {},
   "outputs": [],
   "source": [
    "supply_temp = BACnet_Point(**temp_dict) if bool(temp_dict) else temp_dict"
   ]
  },
  {
   "cell_type": "code",
   "execution_count": null,
   "metadata": {},
   "outputs": [],
   "source": [
    "supply_temp.get_point_value(BACpypesAPP)"
   ]
  }
 ],
 "metadata": {
  "kernelspec": {
   "display_name": "venv",
   "language": "python",
   "name": "python3"
  },
  "language_info": {
   "codemirror_mode": {
    "name": "ipython",
    "version": 3
   },
   "file_extension": ".py",
   "mimetype": "text/x-python",
   "name": "python",
   "nbconvert_exporter": "python",
   "pygments_lexer": "ipython3",
   "version": "3.8.18"
  }
 },
 "nbformat": 4,
 "nbformat_minor": 2
}
