{
 "cells": [
  {
   "cell_type": "code",
   "execution_count": 1,
   "metadata": {},
   "outputs": [
    {
     "data": {
      "text/plain": [
       "<Graph identifier=N535ef135ec044051b1d7eea000109c63 (<class 'brickschema.graph.Graph'>)>"
      ]
     },
     "execution_count": 1,
     "metadata": {},
     "output_type": "execute_result"
    }
   ],
   "source": [
    "import brickschema\n",
    "\n",
    "g = brickschema.Graph()\n",
    "g.load_file('chamber_shacl_expanded.ttl')"
   ]
  },
  {
   "cell_type": "code",
   "execution_count": 2,
   "metadata": {},
   "outputs": [
    {
     "name": "stdout",
     "output_type": "stream",
     "text": [
      "\n",
      "Query test 1 results:\n",
      "(rdflib.term.URIRef('http://berkeley.edu/climatechamber#AHU_C'), rdflib.term.URIRef('http://berkeley.edu/climatechamber#coil_da_temp_10'), rdflib.term.URIRef('http://berkeley.edu/climatechamber#damper_SC_supply'))\n",
      "(rdflib.term.URIRef('http://berkeley.edu/climatechamber#AHU_C'), rdflib.term.URIRef('http://berkeley.edu/climatechamber#eff_sa_temp_10'), rdflib.term.URIRef('http://berkeley.edu/climatechamber#damper_SC_supply'))\n",
      "(rdflib.term.URIRef('http://berkeley.edu/climatechamber#AHU_C'), rdflib.term.URIRef('http://berkeley.edu/climatechamber#overhead_sa_temp_10'), rdflib.term.URIRef('http://berkeley.edu/climatechamber#damper_SC_supply'))\n",
      "(rdflib.term.URIRef('http://berkeley.edu/climatechamber#AHU_C'), rdflib.term.URIRef('http://berkeley.edu/climatechamber#spot_clg_sa_temp_6'), rdflib.term.URIRef('http://berkeley.edu/climatechamber#damper_SC_supply'))\n",
      "(rdflib.term.URIRef('http://berkeley.edu/climatechamber#AHU_C'), rdflib.term.URIRef('http://berkeley.edu/climatechamber#coil_da_temp_10'), rdflib.term.URIRef('http://berkeley.edu/climatechamber#damper_supply'))\n",
      "(rdflib.term.URIRef('http://berkeley.edu/climatechamber#AHU_C'), rdflib.term.URIRef('http://berkeley.edu/climatechamber#eff_sa_temp_10'), rdflib.term.URIRef('http://berkeley.edu/climatechamber#damper_supply'))\n",
      "(rdflib.term.URIRef('http://berkeley.edu/climatechamber#AHU_C'), rdflib.term.URIRef('http://berkeley.edu/climatechamber#overhead_sa_temp_10'), rdflib.term.URIRef('http://berkeley.edu/climatechamber#damper_supply'))\n",
      "(rdflib.term.URIRef('http://berkeley.edu/climatechamber#AHU_C'), rdflib.term.URIRef('http://berkeley.edu/climatechamber#spot_clg_sa_temp_6'), rdflib.term.URIRef('http://berkeley.edu/climatechamber#damper_supply'))\n"
     ]
    }
   ],
   "source": [
    "# Query test 1\n",
    "query1 = g.query(\n",
    "    \"\"\"SELECT ?ahu ?sat ?damper WHERE {\n",
    "    ?ahu a brick:Air_Handling_Unit .\n",
    "    ?ahu brick:hasPoint ?sat .\n",
    "    ?sat a brick:Supply_Air_Temperature_Sensor .\n",
    "    ?ahu brick:hasPart ?damper .\n",
    "    ?damper a brick:Damper\n",
    "}\"\"\"\n",
    ")\n",
    "print(\"\\nQuery test 1 results:\")\n",
    "for row in query1:\n",
    "    print(row)"
   ]
  },
  {
   "cell_type": "code",
   "execution_count": 3,
   "metadata": {},
   "outputs": [
    {
     "name": "stdout",
     "output_type": "stream",
     "text": [
      "\n",
      "Query test 2 results:\n",
      "(rdflib.term.URIRef('http://berkeley.edu/climatechamber#T_RWS'),)\n",
      "(rdflib.term.URIRef('http://berkeley.edu/climatechamber#T_RWR'),)\n",
      "(rdflib.term.URIRef('http://berkeley.edu/climatechamber#RT_HW'),)\n",
      "(rdflib.term.URIRef('http://berkeley.edu/climatechamber#return_temp_b_11'),)\n",
      "(rdflib.term.URIRef('http://berkeley.edu/climatechamber#pchwr_temp_1'),)\n",
      "(rdflib.term.URIRef('http://berkeley.edu/climatechamber#schwr_temp_1'),)\n",
      "(rdflib.term.URIRef('http://berkeley.edu/climatechamber#supply_temp_b_11'),)\n",
      "(rdflib.term.URIRef('http://berkeley.edu/climatechamber#pchws_temp_1'),)\n",
      "(rdflib.term.URIRef('http://berkeley.edu/climatechamber#schws_temp_1'),)\n",
      "(rdflib.term.URIRef('http://berkeley.edu/climatechamber#ST_HW'),)\n"
     ]
    }
   ],
   "source": [
    "# Query test 2\n",
    "query2 = g.query(\n",
    "    \"\"\"SELECT * WHERE{ \n",
    "    ?sensor rdf:type/rdfs:subClassOf* brick:Water_Temperature_Sensor\n",
    "}\"\"\"\n",
    ")\n",
    "print(\"\\nQuery test 2 results:\")\n",
    "for row in query2:\n",
    "    print(row)"
   ]
  },
  {
   "cell_type": "code",
   "execution_count": 4,
   "metadata": {},
   "outputs": [
    {
     "name": "stdout",
     "output_type": "stream",
     "text": [
      "\n",
      "Query test 3 results:\n",
      "(rdflib.term.URIRef('http://berkeley.edu/climatechamber#spot_clg_dmpr_pos_ao_6'),)\n"
     ]
    }
   ],
   "source": [
    "# Query test 3\n",
    "query3 = g.query(\n",
    "    \"\"\"SELECT ?position WHERE{\n",
    "    ?ahu a brick:Air_Handling_Unit .\n",
    "    ?position a brick:Damper_Position_Sensor .\n",
    "    ?damper a brick:Damper .\n",
    "    ?zone a brick:HVAC_Zone .\n",
    "    ?ahu brick:hasPart ?damper .\n",
    "    ?damper brick:hasPoint ?position .\n",
    "    ?damper brick:feeds ?zone\n",
    "    }\n",
    "    \"\"\"\n",
    ")\n",
    "print(\"\\nQuery test 3 results:\")\n",
    "for row in query3:\n",
    "    print(row)"
   ]
  },
  {
   "cell_type": "code",
   "execution_count": 5,
   "metadata": {},
   "outputs": [
    {
     "name": "stdout",
     "output_type": "stream",
     "text": [
      "\n",
      "Query test 4 results:\n",
      "(rdflib.term.URIRef('http://berkeley.edu/climatechamber#sa_temp_1'),)\n",
      "(rdflib.term.URIRef('http://berkeley.edu/climatechamber#coil_da_temp_10'),)\n",
      "(rdflib.term.URIRef('http://berkeley.edu/climatechamber#eff_sa_temp_10'),)\n",
      "(rdflib.term.URIRef('http://berkeley.edu/climatechamber#overhead_sa_temp_10'),)\n",
      "(rdflib.term.URIRef('http://berkeley.edu/climatechamber#spot_clg_sa_temp_6'),)\n"
     ]
    }
   ],
   "source": [
    "# Query test 4\n",
    "query4 = g.query(\n",
    "    \"\"\"SELECT ?sat WHERE{\n",
    "        ?ahu a brick:Air_Handling_Unit .\n",
    "        ?sat a brick:Supply_Air_Temperature_Sensor .\n",
    "        ?ahu brick:hasPoint ?sat\n",
    "    }\n",
    "    \"\"\"\n",
    ")\n",
    "print(\"\\nQuery test 4 results:\")\n",
    "for row in query4:\n",
    "    print(row)"
   ]
  },
  {
   "cell_type": "code",
   "execution_count": 6,
   "metadata": {},
   "outputs": [
    {
     "name": "stdout",
     "output_type": "stream",
     "text": [
      "\n",
      "Query test 5 results:\n",
      "(rdflib.term.URIRef('http://berkeley.edu/climatechamber#sa_temp_1'),)\n",
      "(rdflib.term.URIRef('http://berkeley.edu/climatechamber#coil_da_temp_10'),)\n",
      "(rdflib.term.URIRef('http://berkeley.edu/climatechamber#eff_sa_temp_10'),)\n",
      "(rdflib.term.URIRef('http://berkeley.edu/climatechamber#overhead_sa_temp_10'),)\n",
      "(rdflib.term.URIRef('http://berkeley.edu/climatechamber#spot_clg_sa_temp_6'),)\n"
     ]
    }
   ],
   "source": [
    "# Query test 5\n",
    "query5 = g.query(\n",
    "    \"\"\"SELECT ?sat WHERE{\n",
    "        ?ahu a brick:Air_Handling_Unit .\n",
    "        ?sat a brick:Supply_Air_Temperature_Sensor .\n",
    "        ?sat brick:isPointOf ?ahu\n",
    "    }\n",
    "    \"\"\"\n",
    ")\n",
    "print(\"\\nQuery test 5 results:\")\n",
    "for row in query5:\n",
    "    print(row)"
   ]
  },
  {
   "cell_type": "code",
   "execution_count": null,
   "metadata": {},
   "outputs": [],
   "source": []
  }
 ],
 "metadata": {
  "kernelspec": {
   "display_name": "venv",
   "language": "python",
   "name": "python3"
  },
  "language_info": {
   "codemirror_mode": {
    "name": "ipython",
    "version": 3
   },
   "file_extension": ".py",
   "mimetype": "text/x-python",
   "name": "python",
   "nbconvert_exporter": "python",
   "pygments_lexer": "ipython3",
   "version": "3.8.18"
  }
 },
 "nbformat": 4,
 "nbformat_minor": 2
}
