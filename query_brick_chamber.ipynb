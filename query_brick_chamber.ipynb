{
 "cells": [
  {
   "cell_type": "code",
   "execution_count": 13,
   "metadata": {},
   "outputs": [
    {
     "data": {
      "text/plain": [
       "<Graph identifier=N5225c3956b674a44860f93aa3fdf5894 (<class 'brickschema.graph.Graph'>)>"
      ]
     },
     "execution_count": 13,
     "metadata": {},
     "output_type": "execute_result"
    }
   ],
   "source": [
    "import brickschema\n",
    "\n",
    "g = brickschema.Graph()\n",
    "g.load_file('chamber_shacl_expanded.ttl')"
   ]
  },
  {
   "cell_type": "code",
   "execution_count": 21,
   "metadata": {},
   "outputs": [
    {
     "name": "stdout",
     "output_type": "stream",
     "text": [
      "\n",
      "Query test 1 results:\n",
      "(rdflib.term.URIRef('http://berkeley.edu/climatechamber#AHU_C'), rdflib.term.URIRef('http://berkeley.edu/climatechamber#damper_SC_supply'), rdflib.term.URIRef('http://berkeley.edu/climatechamber#spot_clg_dmpr_pos_ao_6'))\n",
      "(rdflib.term.URIRef('http://berkeley.edu/climatechamber#AHU_C'), rdflib.term.URIRef('http://berkeley.edu/climatechamber#damper_supply'), rdflib.term.URIRef('http://berkeley.edu/climatechamber#supply_damper_pos_10'))\n"
     ]
    }
   ],
   "source": [
    "# Query test 1\n",
    "query1 = g.query(\n",
    "    \"\"\"SELECT ?ahu ?damper ?damper_pos WHERE {\n",
    "    ?ahu a brick:Air_Handling_Unit .\n",
    "    ?ahu brick:hasPart ?damper .\n",
    "    ?damper a brick:Damper .\n",
    "    ?damper brick:feeds ?cc .\n",
    "    ?cc a brick:Chilled_Water_Coil .\n",
    "    ?damper_pos a brick:Damper_Position_Sensor .\n",
    "    ?damper brick:hasPoint ?damper_pos\n",
    "}\"\"\"\n",
    ")\n",
    "print(\"\\nQuery test 1 results:\")\n",
    "for row in query1:\n",
    "    print(row)"
   ]
  },
  {
   "cell_type": "code",
   "execution_count": 23,
   "metadata": {},
   "outputs": [
    {
     "name": "stdout",
     "output_type": "stream",
     "text": [
      "\n",
      "Query test 2 results:\n",
      "(rdflib.term.URIRef('http://berkeley.edu/climatechamber#AHU_C'), rdflib.term.URIRef('http://berkeley.edu/climatechamber#dsp_fixed_setpoint_10'))\n",
      "(rdflib.term.URIRef('http://berkeley.edu/climatechamber#AHU_C'), rdflib.term.URIRef('http://berkeley.edu/climatechamber#press_stpt_6'))\n",
      "(rdflib.term.URIRef('http://berkeley.edu/climatechamber#AHU_C'), rdflib.term.URIRef('http://berkeley.edu/climatechamber#dsp_fixed_setpoint_10'))\n",
      "(rdflib.term.URIRef('http://berkeley.edu/climatechamber#AHU_C'), rdflib.term.URIRef('http://berkeley.edu/climatechamber#press_stpt_6'))\n",
      "(rdflib.term.URIRef('http://berkeley.edu/climatechamber#AHU_C'), rdflib.term.URIRef('http://berkeley.edu/climatechamber#dat_sp_clg_10'))\n",
      "(rdflib.term.URIRef('http://berkeley.edu/climatechamber#AHU_C'), rdflib.term.URIRef('http://berkeley.edu/climatechamber#dat_sp_clg_10'))\n",
      "(rdflib.term.URIRef('http://berkeley.edu/climatechamber#WH_1'), rdflib.term.URIRef('http://berkeley.edu/climatechamber#HWST_stp'))\n",
      "(rdflib.term.URIRef('http://berkeley.edu/climatechamber#CH_1'), rdflib.term.URIRef('http://berkeley.edu/climatechamber#fixed_chws_temp_stpt_1'))\n",
      "(rdflib.term.URIRef('http://berkeley.edu/climatechamber#PCHW_L'), rdflib.term.URIRef('http://berkeley.edu/climatechamber#fixed_chws_temp_stpt_1'))\n",
      "(rdflib.term.URIRef('http://berkeley.edu/climatechamber#AHU_C'), rdflib.term.URIRef('http://berkeley.edu/climatechamber#dat_sp_htg_10'))\n",
      "(rdflib.term.URIRef('http://berkeley.edu/climatechamber#AHU_C'), rdflib.term.URIRef('http://berkeley.edu/climatechamber#dat_sp_htg_10'))\n",
      "(rdflib.term.URIRef('http://berkeley.edu/climatechamber#AHU_A'), rdflib.term.URIRef('http://berkeley.edu/climatechamber#sat_setpoint_av_1'))\n",
      "(rdflib.term.URIRef('http://berkeley.edu/climatechamber#Zone'), rdflib.term.URIRef('http://berkeley.edu/climatechamber#Occupied_Cooling_Setpoint_10'))\n",
      "(rdflib.term.URIRef('http://berkeley.edu/climatechamber#Zone'), rdflib.term.URIRef('http://berkeley.edu/climatechamber#Unoccupied_Cooling_Setpoint_10'))\n",
      "(rdflib.term.URIRef('http://berkeley.edu/climatechamber#Zone'), rdflib.term.URIRef('http://berkeley.edu/climatechamber#Effective_Cooling_Setpoint_10'))\n",
      "(rdflib.term.URIRef('http://berkeley.edu/climatechamber#AHU_C'), rdflib.term.URIRef('http://berkeley.edu/climatechamber#eff_c_datsp_10'))\n",
      "(rdflib.term.URIRef('http://berkeley.edu/climatechamber#Zone'), rdflib.term.URIRef('http://berkeley.edu/climatechamber#Occupied_Heating_Setpoint_10'))\n",
      "(rdflib.term.URIRef('http://berkeley.edu/climatechamber#Zone'), rdflib.term.URIRef('http://berkeley.edu/climatechamber#Unoccupied_Heating_Setpoint_10'))\n",
      "(rdflib.term.URIRef('http://berkeley.edu/climatechamber#Zone'), rdflib.term.URIRef('http://berkeley.edu/climatechamber#Effective_Heating_Setpoint_10'))\n",
      "(rdflib.term.URIRef('http://berkeley.edu/climatechamber#AHU_C'), rdflib.term.URIRef('http://berkeley.edu/climatechamber#eff_h_datsp_10'))\n",
      "(rdflib.term.URIRef('http://berkeley.edu/climatechamber#AHU_C'), rdflib.term.URIRef('http://berkeley.edu/climatechamber#temp_stpt_6'))\n",
      "(rdflib.term.URIRef('http://berkeley.edu/climatechamber#AHU_A'), rdflib.term.URIRef('http://berkeley.edu/climatechamber#sat_setpoint_av_1'))\n"
     ]
    }
   ],
   "source": [
    "# Query test 2\n",
    "query2 = g.query(\n",
    "    \"\"\"SELECT * WHERE{ \n",
    "    ?sensor rdf:type/rdfs:subClassOf* brick:Setpoint .\n",
    "    ?sensor brick:isPointOf ?equipment\n",
    "}\"\"\"\n",
    ")\n",
    "print(\"\\nQuery test 2 results:\")\n",
    "for row in query2:\n",
    "    print(row)"
   ]
  },
  {
   "cell_type": "code",
   "execution_count": 16,
   "metadata": {},
   "outputs": [
    {
     "name": "stdout",
     "output_type": "stream",
     "text": [
      "\n",
      "Query test 3 results:\n",
      "(rdflib.term.URIRef('http://berkeley.edu/climatechamber#spot_clg_dmpr_pos_ao_6'),)\n"
     ]
    }
   ],
   "source": [
    "# Query test 3\n",
    "query3 = g.query(\n",
    "    \"\"\"SELECT ?position WHERE{\n",
    "    ?ahu a brick:Air_Handling_Unit .\n",
    "    ?position a brick:Damper_Position_Sensor .\n",
    "    ?damper a brick:Damper .\n",
    "    ?zone a brick:HVAC_Zone .\n",
    "    ?ahu brick:hasPart ?damper .\n",
    "    ?damper brick:hasPoint ?position .\n",
    "    ?damper brick:feeds ?zone\n",
    "    }\n",
    "    \"\"\"\n",
    ")\n",
    "print(\"\\nQuery test 3 results:\")\n",
    "for row in query3:\n",
    "    print(row)"
   ]
  },
  {
   "cell_type": "code",
   "execution_count": 17,
   "metadata": {},
   "outputs": [
    {
     "name": "stdout",
     "output_type": "stream",
     "text": [
      "\n",
      "Query test 4 results:\n",
      "(rdflib.term.URIRef('http://berkeley.edu/climatechamber#sa_temp_1'),)\n",
      "(rdflib.term.URIRef('http://berkeley.edu/climatechamber#coil_da_temp_10'),)\n",
      "(rdflib.term.URIRef('http://berkeley.edu/climatechamber#eff_sa_temp_10'),)\n",
      "(rdflib.term.URIRef('http://berkeley.edu/climatechamber#spot_clg_sa_temp_6'),)\n",
      "(rdflib.term.URIRef('http://berkeley.edu/climatechamber#overhead_sa_temp_10'),)\n",
      "(rdflib.term.URIRef('http://berkeley.edu/climatechamber#underfloor_sa_temp_10'),)\n"
     ]
    }
   ],
   "source": [
    "# Query test 4\n",
    "query4 = g.query(\n",
    "    \"\"\"SELECT ?sat WHERE{\n",
    "        ?ahu a brick:Air_Handling_Unit .\n",
    "        ?sat a brick:Supply_Air_Temperature_Sensor .\n",
    "        ?ahu brick:hasPoint ?sat\n",
    "    }\n",
    "    \"\"\"\n",
    ")\n",
    "print(\"\\nQuery test 4 results:\")\n",
    "for row in query4:\n",
    "    print(row)"
   ]
  },
  {
   "cell_type": "code",
   "execution_count": null,
   "metadata": {},
   "outputs": [],
   "source": []
  }
 ],
 "metadata": {
  "kernelspec": {
   "display_name": "venv",
   "language": "python",
   "name": "python3"
  },
  "language_info": {
   "codemirror_mode": {
    "name": "ipython",
    "version": 3
   },
   "file_extension": ".py",
   "mimetype": "text/x-python",
   "name": "python",
   "nbconvert_exporter": "python",
   "pygments_lexer": "ipython3",
   "version": "3.8.18"
  }
 },
 "nbformat": 4,
 "nbformat_minor": 2
}
